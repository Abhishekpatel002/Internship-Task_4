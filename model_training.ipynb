{
 "cells": [
  {
   "cell_type": "code",
   "execution_count": null,
   "id": "7c90a31e",
   "metadata": {
    "vscode": {
     "languageId": "plaintext"
    }
   },
   "outputs": [],
   "source": [
    "# model_training.ipynb (Simplified version)\n",
    "\n",
    "import os\n",
    "import numpy as np\n",
    "import pandas as pd\n",
    "import tensorflow as tf\n",
    "from tensorflow.keras.layers import Conv2D, MaxPooling2D, Flatten, Dense\n",
    "from tensorflow.keras.models import Sequential\n",
    "from tensorflow.keras.preprocessing.image import ImageDataGenerator\n",
    "from sklearn.model_selection import train_test_split\n",
    "\n",
    "# Load dataset\n",
    "# Use UTKFace dataset or IMDB-WIKI\n",
    "# Let's simulate with random data for demo\n",
    "\n",
    "X = np.random.rand(1000, 64, 64, 3)\n",
    "age = np.random.randint(15, 80, 1000)\n",
    "gender = np.random.randint(0, 2, 1000)  # 0 = male, 1 = female\n",
    "\n",
    "X_train, X_test, age_train, age_test = train_test_split(X, age, test_size=0.2)\n",
    "_, _, gender_train, gender_test = train_test_split(X, gender, test_size=0.2)\n",
    "\n",
    "# Age model (Regression)\n",
    "age_model = Sequential([\n",
    "    Conv2D(32, (3,3), activation='relu', input_shape=(64,64,3)),\n",
    "    MaxPooling2D(),\n",
    "    Flatten(),\n",
    "    Dense(64, activation='relu'),\n",
    "    Dense(1, activation='linear')  # age\n",
    "])\n",
    "\n",
    "age_model.compile(optimizer='adam', loss='mse', metrics=['mae'])\n",
    "age_model.fit(X_train, age_train, epochs=5, batch_size=32, validation_split=0.2)\n",
    "age_model.save(\"saved_models/age_model.h5\")\n",
    "\n",
    "# Gender model (Binary classification)\n",
    "gender_model = Sequential([\n",
    "    Conv2D(32, (3,3), activation='relu', input_shape=(64,64,3)),\n",
    "    MaxPooling2D(),\n",
    "    Flatten(),\n",
    "    Dense(64, activation='relu'),\n",
    "    Dense(1, activation='sigmoid')  # gender\n",
    "])\n",
    "\n",
    "gender_model.compile(optimizer='adam', loss='binary_crossentropy', metrics=['accuracy'])\n",
    "gender_model.fit(X_train, gender_train, epochs=5, batch_size=32, validation_split=0.2)\n",
    "gender_model.save(\"saved_models/gender_model.h5\")\n"
   ]
  }
 ],
 "metadata": {
  "language_info": {
   "name": "python"
  }
 },
 "nbformat": 4,
 "nbformat_minor": 5
}
